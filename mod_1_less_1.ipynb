{
 "cells": [
  {
   "cell_type": "code",
   "execution_count": 1,
   "metadata": {},
   "outputs": [
    {
     "name": "stdout",
     "output_type": "stream",
     "text": [
      "2\n",
      "4\n",
      "Done\n"
     ]
    }
   ],
   "source": [
    "#Using else block to display a message “Done” after successful execution of for loop.\n",
    "\n",
    "list_of_numbers=[2,4,5,6]\n",
    "for i in list_of_numbers:\n",
    "    if i <= 4:\n",
    "        print(i)\n",
    "    else: \n",
    "        print('Done')\n",
    "        break"
   ]
  },
  {
   "cell_type": "code",
   "execution_count": 2,
   "metadata": {},
   "outputs": [
    {
     "name": "stdout",
     "output_type": "stream",
     "text": [
      "[20, 25, 28, 67, 55, 2]\n"
     ]
    }
   ],
   "source": [
    "#Using a loop to display elements from a given list present at odd index positions.\n",
    "elements=[15,20,50,25,44,28,90,67,54,55,78,2,16]\n",
    "odd_element=[]\n",
    "for i in range(0,len(elements)):\n",
    "    if i % 2 == 1:\n",
    "        odd_element.append(elements[i])\n",
    "print(odd_element)"
   ]
  },
  {
   "cell_type": "code",
   "execution_count": 3,
   "metadata": {},
   "outputs": [
    {
     "name": "stdout",
     "output_type": "stream",
     "text": [
      "[2, 3, 5, 7, 11, 13, 17, 19, 23]\n"
     ]
    }
   ],
   "source": [
    "#Write a program to display all prime numbers within a range.\n",
    "num=int(input('input a number:'))\n",
    "List_of_primenumber=[]\n",
    "for x in range (2,num+1):\n",
    "    isPrime=True\n",
    "    for y in range(2,x):\n",
    "        if x % y ==0:\n",
    "            isPrime=False\n",
    "            break\n",
    "    if isPrime:\n",
    "        List_of_primenumber.append(x)\n",
    "print(List_of_primenumber)\n",
    "    "
   ]
  },
  {
   "cell_type": "code",
   "execution_count": 4,
   "metadata": {},
   "outputs": [
    {
     "name": "stdout",
     "output_type": "stream",
     "text": [
      "[1, 8, 27, 64, 125, 216, 343, 512, 729]\n"
     ]
    }
   ],
   "source": [
    "#Calculate the cube of all numbers from 1 to a given number using list comprehension\n",
    "numbers=[i**3 for i in range(1,10)]\n",
    "print(numbers)"
   ]
  }
 ],
 "metadata": {
  "kernelspec": {
   "display_name": "Python 3.9.12 ('base')",
   "language": "python",
   "name": "python3"
  },
  "language_info": {
   "codemirror_mode": {
    "name": "ipython",
    "version": 3
   },
   "file_extension": ".py",
   "mimetype": "text/x-python",
   "name": "python",
   "nbconvert_exporter": "python",
   "pygments_lexer": "ipython3",
   "version": "3.9.12"
  },
  "orig_nbformat": 4,
  "vscode": {
   "interpreter": {
    "hash": "3ea9a7ad6588aa52674c91c8afa4f650ab04ea543da914dcdc615b5b9b989aa4"
   }
  }
 },
 "nbformat": 4,
 "nbformat_minor": 2
}
