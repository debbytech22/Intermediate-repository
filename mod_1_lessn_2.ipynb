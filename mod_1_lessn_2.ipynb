{
 "cells": [
  {
   "cell_type": "code",
   "execution_count": 1,
   "metadata": {},
   "outputs": [
    {
     "name": "stdout",
     "output_type": "stream",
     "text": [
      "gt... gt... gttrivg?\n"
     ]
    }
   ],
   "source": [
    "# A function that repeats the first 2 letters of a word which will be followed by 3 dots and a space after it\n",
    "\n",
    "def slice_word():\n",
    "    word_to_slice =  input('Enter a word:')\n",
    "    sliced_word = word_to_slice[:2]\n",
    "    print(f'{sliced_word}... {sliced_word}... {word_to_slice}?')\n",
    "slice_word()"
   ]
  },
  {
   "cell_type": "code",
   "execution_count": 2,
   "metadata": {},
   "outputs": [
    {
     "name": "stdout",
     "output_type": "stream",
     "text": [
      "eio\n"
     ]
    }
   ],
   "source": [
    "#A loop that searches through a string and prints only distinct vowel letter\n",
    "vowels_frm_word=[]\n",
    "vowels=['a','e','i','o','u']\n",
    "distinct_letter=''\n",
    "new_string=input('enter a word:')\n",
    "for i in new_string:\n",
    "    if i in vowels:\n",
    "        vowels_frm_word.append(i)\n",
    "        for j in vowels_frm_word:\n",
    "            if j not in distinct_letter:\n",
    "                distinct_letter+=i\n",
    "print(distinct_letter)\n"
   ]
  },
  {
   "cell_type": "code",
   "execution_count": null,
   "metadata": {},
   "outputs": [],
   "source": [
    "# Perform a while loop that requests for a name, if that name is entered, \n",
    "# it will be printed else, if user types “end” (this command should be case insensitive), \n",
    "# the while loop is terminated\n",
    "\n",
    "input_value=True\n",
    "while input_value:\n",
    "    value=input('Input a name:')\n",
    "    value.lower()\n",
    "    if value.lower() == 'End'.lower():\n",
    "        input_value=False  "
   ]
  }
 ],
 "metadata": {
  "kernelspec": {
   "display_name": "Python 3.9.12 ('base')",
   "language": "python",
   "name": "python3"
  },
  "language_info": {
   "codemirror_mode": {
    "name": "ipython",
    "version": 3
   },
   "file_extension": ".py",
   "mimetype": "text/x-python",
   "name": "python",
   "nbconvert_exporter": "python",
   "pygments_lexer": "ipython3",
   "version": "3.9.12"
  },
  "orig_nbformat": 4,
  "vscode": {
   "interpreter": {
    "hash": "3ea9a7ad6588aa52674c91c8afa4f650ab04ea543da914dcdc615b5b9b989aa4"
   }
  }
 },
 "nbformat": 4,
 "nbformat_minor": 2
}
